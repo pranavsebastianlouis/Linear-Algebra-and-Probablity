{
 "cells": [
  {
   "cell_type": "code",
   "execution_count": 1,
   "metadata": {
    "id": "Df4jcOSIl6bw"
   },
   "outputs": [],
   "source": [
    "import math\n",
    "import numpy as np"
   ]
  },
  {
   "cell_type": "markdown",
   "metadata": {
    "id": "7fnopGEwkdOr"
   },
   "source": [
    "# Question 1: Compute the Euclidean distance between vector $V_1$ and $V_2$. Store the answer in variable d. Show screenshot\\\\photograph of your calculation\n",
    "\n",
    "$V_1 = \\{2, -3, 5\\}$ and $V_2 = \\{6, 2, 1\\}$"
   ]
  },
  {
   "cell_type": "code",
   "execution_count": 2,
   "metadata": {
    "id": "veR7KvHgkyha"
   },
   "outputs": [
    {
     "name": "stdout",
     "output_type": "stream",
     "text": [
      "The Euclidean distance is 7.55 .\n"
     ]
    }
   ],
   "source": [
    "x1,y1,z1,x2,y2,z2 = 2,-3,5,6,2,1\n",
    "d = math.sqrt((x2-x1)**2 + (y2-y1)**2 + (z2-z1)**2)\n",
    "print(f'The Euclidean distance is {d:.02f} .')"
   ]
  },
  {
   "cell_type": "code",
   "execution_count": 3,
   "metadata": {
    "id": "eBOZwZn_mCiX"
   },
   "outputs": [
    {
     "data": {
      "text/plain": [
       "True"
      ]
     },
     "execution_count": 3,
     "metadata": {},
     "output_type": "execute_result"
    }
   ],
   "source": [
    "def grader1(d, tol=1e-3):\n",
    "    return math.isclose(d, math.sqrt(57), rel_tol=tol)\n",
    "grader1(d)"
   ]
  },
  {
   "cell_type": "markdown",
   "metadata": {
    "id": "MB3mF61SWfnA"
   },
   "source": [
    "![screenshot1](screenshot1.png)"
   ]
  },
  {
   "cell_type": "markdown",
   "metadata": {
    "id": "Y9Wq_TR4mgQs"
   },
   "source": [
    "# Question 2: Find a Unit vector in the direction of $x = \\{6, -8, 0\\}$ and store it in variable 'x' as list. Show screenshot\\\\photograph of your calculation"
   ]
  },
  {
   "cell_type": "code",
   "execution_count": 4,
   "metadata": {
    "id": "fFES_YGmmGcs"
   },
   "outputs": [
    {
     "name": "stdout",
     "output_type": "stream",
     "text": [
      "The magnitude is 10.0 .\n",
      "The unit vector is [0.6, -0.8, 0.0].\n"
     ]
    }
   ],
   "source": [
    "x1,y1,z1 = 6,-8,0\n",
    "p = abs(math.sqrt(x1**2 + y1**2 + z1**2)) # magnitude\n",
    "print(f\"The magnitude is {p} .\")\n",
    "x = [x1/p,y1/p,z1/p]\n",
    "print(f'The unit vector is {x}.')"
   ]
  },
  {
   "cell_type": "code",
   "execution_count": 5,
   "metadata": {
    "id": "ikF9Ol64nSUX"
   },
   "outputs": [
    {
     "data": {
      "text/plain": [
       "True"
      ]
     },
     "execution_count": 5,
     "metadata": {},
     "output_type": "execute_result"
    }
   ],
   "source": [
    "def grader2(v, tol=1e-3):\n",
    "    cuv = (0.6, -0.8, 0)\n",
    "    return all(math.isclose(v[i], cuv[i], rel_tol=tol) for i in range(3))\n",
    "grader2(x)"
   ]
  },
  {
   "cell_type": "markdown",
   "metadata": {
    "id": "jolj2eTOXvER"
   },
   "source": [
    "![screenshot2](screenshot2.png)"
   ]
  },
  {
   "cell_type": "markdown",
   "metadata": {
    "id": "v4-gOsagvQ3_"
   },
   "source": [
    "# Question 3: Find the determinant of the matrix and store the value in variable a A = \\begin{bmatrix} 3 & 4 & 2 \\\\ 2 & 1 & 5 \\\\ 6 & 0 & -1 \\end{bmatrix}\n",
    "#Show screenshot\\\\photograph of your calculation\n"
   ]
  },
  {
   "cell_type": "code",
   "execution_count": 6,
   "metadata": {
    "id": "M2QDrYDBFQmu"
   },
   "outputs": [
    {
     "name": "stdout",
     "output_type": "stream",
     "text": [
      "The determinant is 113.\n"
     ]
    }
   ],
   "source": [
    "A = [[3,4,2],\n",
    "    [2,1,5],\n",
    "    [6,0,-1]]\n",
    "det = (A[0][0] * (A[1][1] * A[2][2] - A[1][2] * A[2][1]) -\n",
    "     A[0][1] * (A[1][0] * A[2][2] - A[1][2] * A[2][0]) +\n",
    "     A[0][2] * (A[1][0] * A[2][1] - A[1][1] * A[2][0]))\n",
    "print(f'The determinant is {det}.')\n",
    "a = det"
   ]
  },
  {
   "cell_type": "code",
   "execution_count": 7,
   "metadata": {
    "id": "oTwztEHlnaqE"
   },
   "outputs": [
    {
     "data": {
      "text/plain": [
       "True"
      ]
     },
     "execution_count": 7,
     "metadata": {},
     "output_type": "execute_result"
    }
   ],
   "source": [
    "def grader3(ans, tol=1e-3):\n",
    "    correct_det = 113\n",
    "    return math.isclose(ans, correct_det, rel_tol=tol)\n",
    "\n",
    "grader3(a)"
   ]
  },
  {
   "cell_type": "markdown",
   "metadata": {
    "id": "0kYkLu-bXxh8"
   },
   "source": [
    "![screenshot3](screenshot3.png)"
   ]
  },
  {
   "cell_type": "markdown",
   "metadata": {
    "id": "ZbccmZ6EPYkL"
   },
   "source": [
    "# Question 4: Compute the inverse ($B^{-1}$) of matrix B and store it in variable b\n",
    "\n",
    "B =  \\begin{bmatrix} 2 & -1 \\\\ 1 & 3 \\end{bmatrix}\n",
    "\n",
    "# Show screenshot\\\\photograph of your calculation"
   ]
  },
  {
   "cell_type": "code",
   "execution_count": 8,
   "metadata": {
    "id": "RyoJ5KxSQMiW"
   },
   "outputs": [
    {
     "name": "stdout",
     "output_type": "stream",
     "text": [
      "Inverse of B is [[0.42857142857142855, 0.14285714285714285], [-0.14285714285714285, 0.2857142857142857]]\n"
     ]
    }
   ],
   "source": [
    "B = [[2,-1],[1,3]]\n",
    "adjB = [[3,1],[-1,2]]\n",
    "detB  = B[0][0]*B[1][1] - (B[0][1]*B[1][0])\n",
    "b = []\n",
    "for row in adjB:\n",
    "    temp = []\n",
    "    for element in row:\n",
    "        temp.append(element/detB)\n",
    "    b.append(temp)\n",
    "print(f'Inverse of B is {b}')"
   ]
  },
  {
   "cell_type": "code",
   "execution_count": 9,
   "metadata": {
    "id": "n7KcXDCdnooX"
   },
   "outputs": [
    {
     "data": {
      "text/plain": [
       "True"
      ]
     },
     "execution_count": 9,
     "metadata": {},
     "output_type": "execute_result"
    }
   ],
   "source": [
    "def grader4(B_inv, tol=1e-3):\n",
    "    correct_B_inv = np.array([[3/7, 1/7], [-1/7, 2/7]])\n",
    "    return np.allclose(B_inv, correct_B_inv, rtol=tol)\n",
    "grader4(b)"
   ]
  },
  {
   "cell_type": "markdown",
   "metadata": {
    "id": "tXGNwdewXzsD"
   },
   "source": [
    "![screenshot4](screenshot4.png)"
   ]
  },
  {
   "cell_type": "markdown",
   "metadata": {},
   "source": [
    "# Question 5: Compute the dot product value for $V_1 = \\{1, 2, -1\\}$ and $V_2 = \\{3, -6, 2\\}$ and store it in variable dot_prod. Show screenshot\\\\photograph of your calculation"
   ]
  },
  {
   "cell_type": "code",
   "execution_count": 10,
   "metadata": {
    "id": "ayd1TbdHQ3Ay"
   },
   "outputs": [
    {
     "name": "stdout",
     "output_type": "stream",
     "text": [
      "The dot product is -11 .\n"
     ]
    }
   ],
   "source": [
    "v1 = [1,2,-1]\n",
    "v2 = [3,-6,2]\n",
    "dotprod = 0\n",
    "for i ,j in zip(v1,v2):\n",
    "    dotprod += i*j\n",
    "dot_prod = dotprod\n",
    "print(f'The dot product is {dot_prod} .')"
   ]
  },
  {
   "cell_type": "code",
   "execution_count": 11,
   "metadata": {
    "id": "5AEYqqGAQSAm"
   },
   "outputs": [
    {
     "data": {
      "text/plain": [
       "True"
      ]
     },
     "execution_count": 11,
     "metadata": {},
     "output_type": "execute_result"
    }
   ],
   "source": [
    "def grader5(dot_prod, tol=1e-3):\n",
    "  is_correct = math.isclose(dot_prod, -11, rel_tol=tol)\n",
    "  return is_correct\n",
    "grader5(dot_prod)"
   ]
  },
  {
   "cell_type": "markdown",
   "metadata": {
    "id": "tdToGhvLX1fI"
   },
   "source": [
    "![screenshot5](screenshot5.png)"
   ]
  },
  {
   "cell_type": "markdown",
   "metadata": {
    "id": "w68LFmXbTDzM"
   },
   "source": [
    "# Question 6: Compute the angle between $V_1$ = \\{1, 2\\} and $V_2 = \\{3, 4\\}$ using the dot product formula and store it in variable theta. Show screenshot\\\\photograph of your calculation"
   ]
  },
  {
   "cell_type": "code",
   "execution_count": 12,
   "metadata": {
    "id": "vfv9e19BRXsP"
   },
   "outputs": [],
   "source": [
    "v1,v2 = [1,2],[3,4]\n",
    "dotpro = 0\n",
    "for i ,j in zip(v1,v2):\n",
    "    dotpro += i*j\n",
    "magv1 = abs(math.sqrt(1**2 + 2**2))\n",
    "magv2 = abs(math.sqrt(3**2 + 4**2))\n",
    "theta = math.acos(dotpro/(magv1*magv2))"
   ]
  },
  {
   "cell_type": "code",
   "execution_count": 13,
   "metadata": {
    "id": "ILKYZd1ZTagd"
   },
   "outputs": [
    {
     "data": {
      "text/plain": [
       "True"
      ]
     },
     "execution_count": 13,
     "metadata": {},
     "output_type": "execute_result"
    }
   ],
   "source": [
    "def grader6(theta, tol=1e-3):\n",
    "    correct_theta = math.acos(11 / (math.sqrt(5) * 5))\n",
    "    return math.isclose(theta, correct_theta, rel_tol=tol)\n",
    "\n",
    "grader6(theta)"
   ]
  },
  {
   "cell_type": "markdown",
   "metadata": {
    "id": "BlmqWqrrX4do"
   },
   "source": [
    "![screenshot6](screenshot6.png)"
   ]
  },
  {
   "cell_type": "markdown",
   "metadata": {
    "id": "YCcewJIKX47X"
   },
   "source": [
    "# Question 7: Find the eigenvalues of C = \\begin{bmatrix} 2 & 1 \\\\ 1 & 2 \\end{bmatrix} and store it in variables lamda1 and lambda2.\n",
    "# Show screenshot\\\\photograph of your calculation"
   ]
  },
  {
   "cell_type": "code",
   "execution_count": 14,
   "metadata": {
    "id": "gJeXcQiCTsJc"
   },
   "outputs": [],
   "source": [
    "lambda1= 1 #write your answer\n",
    "lambda2 = 3 #write your answer"
   ]
  },
  {
   "cell_type": "code",
   "execution_count": 15,
   "metadata": {
    "id": "ScOmwG4OYSvf"
   },
   "outputs": [
    {
     "data": {
      "text/plain": [
       "True"
      ]
     },
     "execution_count": 15,
     "metadata": {},
     "output_type": "execute_result"
    }
   ],
   "source": [
    "def grader7(lamda1, lamda2):\n",
    "    c1 = 3\n",
    "    c2 = 1\n",
    "    if (lamda1 == c1 and lamda2 == c2) or \\\n",
    "       (lamda1 == c2 and lamda2 == c1):\n",
    "        return True\n",
    "    else:\n",
    "        return False\n",
    "grader7(lambda1, lambda2)"
   ]
  },
  {
   "cell_type": "markdown",
   "metadata": {},
   "source": [
    "<img src=\"Question7.jpg\">"
   ]
  },
  {
   "cell_type": "markdown",
   "metadata": {
    "id": "6c4Q4jpudCiy"
   },
   "source": [
    "# Question 8: A box contains 4 red, 3 blue, and 2 green balls. What is the probability of drawing a red or blue ball? store the result in variable p. Show screenshot\\\\photograph of your calculation"
   ]
  },
  {
   "cell_type": "code",
   "execution_count": 16,
   "metadata": {
    "id": "5z_09z0eZOSf"
   },
   "outputs": [
    {
     "name": "stdout",
     "output_type": "stream",
     "text": [
      "probablity of drawing a red ball or blue ball is (4 + 3)/ 9 = 0.7777777777777778.\n"
     ]
    }
   ],
   "source": [
    "red_balls = 4\n",
    "blue_balls = 3\n",
    "green_balls = 2\n",
    "total_outcomes = red_balls + blue_balls + green_balls\n",
    "favorable_outcomes = red_balls + blue_balls\n",
    "\n",
    "p = (favorable_outcomes/total_outcomes) #write your answer\n",
    "print(f\"probablity of drawing a red ball or blue ball is (4 + 3)/ 9 = {p}.\")"
   ]
  },
  {
   "cell_type": "code",
   "execution_count": 17,
   "metadata": {
    "id": "pn3CbctGdLmy"
   },
   "outputs": [
    {
     "data": {
      "text/plain": [
       "True"
      ]
     },
     "execution_count": 17,
     "metadata": {},
     "output_type": "execute_result"
    }
   ],
   "source": [
    "def grader8(prob):\n",
    "    if abs(prob - 0.7777777777777777777) < 1e-6:\n",
    "        return True\n",
    "    else:\n",
    "        return False\n",
    "grader8(p)"
   ]
  },
  {
   "cell_type": "markdown",
   "metadata": {
    "id": "notlLMv-YBZQ"
   },
   "source": [
    "![screenshot8](screenshot8.png)"
   ]
  },
  {
   "cell_type": "markdown",
   "metadata": {
    "id": "R9XWn-ahDF_z"
   },
   "source": [
    "# Question 9: A test for a disease is 95% accurate, and 1% of people have the disease. If a person tests positive, what is the probability that they actually have the disease? Store the answer in variable p. Show screenshot\\\\photograph of your calculation"
   ]
  },
  {
   "cell_type": "code",
   "execution_count": 18,
   "metadata": {
    "id": "efuMnDKydvrJ"
   },
   "outputs": [],
   "source": [
    "p = 0.161"
   ]
  },
  {
   "cell_type": "code",
   "execution_count": 19,
   "metadata": {
    "id": "1EB4TqplDNnt"
   },
   "outputs": [
    {
     "data": {
      "text/plain": [
       "True"
      ]
     },
     "execution_count": 19,
     "metadata": {},
     "output_type": "execute_result"
    }
   ],
   "source": [
    "def grader9(p):\n",
    "    if p==0.161:\n",
    "        return True\n",
    "    else:\n",
    "        return False\n",
    "grader9(p)"
   ]
  },
  {
   "cell_type": "markdown",
   "metadata": {
    "id": "V_WmZgkOYDwB"
   },
   "source": [
    "<img src ='Q9.jpg' >"
   ]
  },
  {
   "cell_type": "markdown",
   "metadata": {
    "id": "cLj3KYwdElkw"
   },
   "source": [
    "# Question 10: In a class, 70% of students pass math, and 50% pass physics. If 30% pass both, what is the probability that a student who passes math also passes physics?. Store your answer in variable p. Show screenshot\\\\photograph of your calculation"
   ]
  },
  {
   "cell_type": "code",
   "execution_count": 20,
   "metadata": {
    "id": "Ow9DvnGmDwzt"
   },
   "outputs": [],
   "source": [
    "p = round(0.30/0.70,4) #write your answer"
   ]
  },
  {
   "cell_type": "code",
   "execution_count": 21,
   "metadata": {
    "id": "ZoRAlNOCEuXF"
   },
   "outputs": [
    {
     "data": {
      "text/plain": [
       "True"
      ]
     },
     "execution_count": 21,
     "metadata": {},
     "output_type": "execute_result"
    }
   ],
   "source": [
    "def grader10(p):\n",
    "    if p==0.4286:\n",
    "        return True\n",
    "    else:\n",
    "        return False\n",
    "grader10(p)"
   ]
  },
  {
   "cell_type": "markdown",
   "metadata": {
    "id": "ToM4ggNLYFf0"
   },
   "source": [
    "<img src ='Q10.png' >"
   ]
  },
  {
   "cell_type": "markdown",
   "metadata": {
    "id": "dDD8opa7FjLF"
   },
   "source": [
    "# Question 11: Compute the entropy of a biased coin with P(Heads) = 0.8 and P(Tails) = 0.2. Store your answer in variable e given below. Comment your oberservation about the uncertainity about the situation. Show screenshot\\\\photograph of your calculation"
   ]
  },
  {
   "cell_type": "code",
   "execution_count": 22,
   "metadata": {
    "id": "TlIIgfqGFJ8T"
   },
   "outputs": [],
   "source": [
    "e = 0.72193 #write your answer"
   ]
  },
  {
   "cell_type": "code",
   "execution_count": 23,
   "metadata": {
    "id": "wvL0G5PPFy47"
   },
   "outputs": [
    {
     "data": {
      "text/plain": [
       "True"
      ]
     },
     "execution_count": 23,
     "metadata": {},
     "output_type": "execute_result"
    }
   ],
   "source": [
    "def grader11(e):\n",
    "    if e==0.72193:\n",
    "        return True\n",
    "    else:\n",
    "        return False\n",
    "grader11(e)"
   ]
  },
  {
   "cell_type": "raw",
   "metadata": {},
   "source": [
    "Entropy measures the uncertainty or randomness of a random variable. In this case, the entropy of the biased coin (0.721928) is less than the entropy of a fair coin (which would be 1), indicating that there is less uncertainty or randomness in the outcome of the biased coin. Since the probability of heads is higher (0.8), the outcome is more predictable, leading to lower entropy."
   ]
  },
  {
   "cell_type": "markdown",
   "metadata": {
    "id": "hR4mNtwzYHRL"
   },
   "source": [
    "<img src ='Q11.jpg' >"
   ]
  },
  {
   "cell_type": "markdown",
   "metadata": {
    "id": "StIn8118H4wL"
   },
   "source": [
    "# Question 12: Given the random variable $X$ that takes the values $\\{1,2,3,4\\}$ with probabilities $\\{0.1,0.2,0.3,0.4\\}$, compute the expected value of X. Store the answer in variable expected_value. Show screenshot\\\\photograph of your calculation"
   ]
  },
  {
   "cell_type": "code",
   "execution_count": 24,
   "metadata": {
    "id": "djYOmUmUIiDE"
   },
   "outputs": [],
   "source": [
    "expected_value = 3.0"
   ]
  },
  {
   "cell_type": "code",
   "execution_count": 25,
   "metadata": {
    "id": "XRNVVGQJIk_o"
   },
   "outputs": [
    {
     "data": {
      "text/plain": [
       "True"
      ]
     },
     "execution_count": 25,
     "metadata": {},
     "output_type": "execute_result"
    }
   ],
   "source": [
    "def grader12(expected_value, tol=1e-3):\n",
    "    return math.isclose(expected_value, 3.0, rel_tol=tol)\n",
    "\n",
    "grader12(expected_value)"
   ]
  },
  {
   "cell_type": "markdown",
   "metadata": {
    "id": "n5mVT7eGYIxv"
   },
   "source": [
    "<img src ='Q12.png' >"
   ]
  },
  {
   "cell_type": "markdown",
   "metadata": {
    "id": "S2iNPi8OJd1q"
   },
   "source": [
    "# Question 13: Two dice are rolled. Find the probability that their sum is greater than 8. Store the answer in variable prob. Show screenshot\\\\photograph of your calculation"
   ]
  },
  {
   "cell_type": "code",
   "execution_count": 26,
   "metadata": {
    "id": "I2qkAzCFJg67"
   },
   "outputs": [],
   "source": [
    "prob = 1/4 #write your answer"
   ]
  },
  {
   "cell_type": "code",
   "execution_count": 27,
   "metadata": {
    "id": "JUYcZ6D8JjzH"
   },
   "outputs": [
    {
     "data": {
      "text/plain": [
       "True"
      ]
     },
     "execution_count": 27,
     "metadata": {},
     "output_type": "execute_result"
    }
   ],
   "source": [
    "def grader13(prob, tol=1e-3):\n",
    "    return math.isclose(prob, 0.25, rel_tol=tol)\n",
    "\n",
    "grader13(prob)"
   ]
  },
  {
   "cell_type": "markdown",
   "metadata": {
    "id": "gQp0tHzzYKSH"
   },
   "source": [
    "<img src ='Q13.png' >"
   ]
  },
  {
   "cell_type": "markdown",
   "metadata": {
    "id": "A1zFVXSyKJ3w"
   },
   "source": [
    "# Question 14: A biased coin has P(Heads)=0.6. If it is flipped 10 times, what is the probability of getting exactly 7 heads? Store the answer in variable prob2. Show screenshot\\\\photograph of your calculation"
   ]
  },
  {
   "cell_type": "code",
   "execution_count": 28,
   "metadata": {
    "id": "XYWyd1tVJr2g"
   },
   "outputs": [],
   "source": [
    "prob2 = 0.2149#write your answer"
   ]
  },
  {
   "cell_type": "code",
   "execution_count": 29,
   "metadata": {
    "id": "OlA6ffp0KUpI"
   },
   "outputs": [
    {
     "data": {
      "text/plain": [
       "False"
      ]
     },
     "execution_count": 29,
     "metadata": {},
     "output_type": "execute_result"
    }
   ],
   "source": [
    "def grader(prob2, tol=1e-3):\n",
    "    return math.isclose(prob2, 0.2013, rel_tol=tol)\n",
    "\n",
    "grader(prob2)"
   ]
  },
  {
   "cell_type": "markdown",
   "metadata": {
    "id": "4GbD8KRlYL7V"
   },
   "source": [
    "<img src ='Q14.png' >"
   ]
  },
  {
   "cell_type": "markdown",
   "metadata": {
    "id": "Qdz0aKLPLJKF"
   },
   "source": [
    "# Question 15: Determine whether the vectors (2,4) and (1,2) are linearly independent. Store the boolean value in variable ans. Show screenshot\\\\photograph of your calculation"
   ]
  },
  {
   "cell_type": "code",
   "execution_count": 30,
   "metadata": {
    "id": "Q6thhD7ULDq8"
   },
   "outputs": [],
   "source": [
    "ans = False #write your answer(True/False)"
   ]
  },
  {
   "cell_type": "code",
   "execution_count": 31,
   "metadata": {
    "id": "VjrEI2isLHgx"
   },
   "outputs": [
    {
     "data": {
      "text/plain": [
       "False"
      ]
     },
     "execution_count": 31,
     "metadata": {},
     "output_type": "execute_result"
    }
   ],
   "source": [
    "def grader15(is_independent):\n",
    "    return is_independent == False\n",
    "grader(ans)"
   ]
  },
  {
   "cell_type": "markdown",
   "metadata": {
    "id": "jBVx5jelYNkq"
   },
   "source": [
    "<img src ='Q15.png' >"
   ]
  },
  {
   "cell_type": "markdown",
   "metadata": {
    "id": "s9jVzJKJMr3t"
   },
   "source": [
    "# Question 16: Find the dot product of $a=(1,−2,3)$ and $b=(4,0,−1)$. Store your answer in dot_prod variable. Show screenshot\\\\photograph of your calculation"
   ]
  },
  {
   "cell_type": "code",
   "execution_count": 32,
   "metadata": {
    "id": "kt5T-xbnMHF7"
   },
   "outputs": [
    {
     "name": "stdout",
     "output_type": "stream",
     "text": [
      "The dot product is 1 .\n"
     ]
    }
   ],
   "source": [
    "v1 = [1,-2,3]\n",
    "v2 = [4,0,-1]\n",
    "dotprod = 0\n",
    "for i ,j in zip(v1,v2):\n",
    "    dotprod += i*j\n",
    "dot_prod = dotprod\n",
    "print(f'The dot product is {dot_prod} .')\n"
   ]
  },
  {
   "cell_type": "code",
   "execution_count": 33,
   "metadata": {
    "id": "lz8fgpbLNAaJ"
   },
   "outputs": [
    {
     "data": {
      "text/plain": [
       "False"
      ]
     },
     "execution_count": 33,
     "metadata": {},
     "output_type": "execute_result"
    }
   ],
   "source": [
    "def grader16(dot_product):\n",
    "    return dot_product == 4\n",
    "\n",
    "grader16(dot_prod)"
   ]
  },
  {
   "cell_type": "markdown",
   "metadata": {
    "id": "cQYXQVGVYPSX"
   },
   "source": [
    "![screenshot16](screenshot16.png)"
   ]
  },
  {
   "cell_type": "markdown",
   "metadata": {
    "id": "WALM0sGrObWr"
   },
   "source": [
    "# Question 17: In a deck of cards, there are 4 aces. What is the probability of drawing an ace or a heart from a deck of 52 cards? Store your answer in variable prob3. Show screenshot\\\\photograph of your calculation"
   ]
  },
  {
   "cell_type": "code",
   "execution_count": 34,
   "metadata": {
    "id": "yrHy3czdOkMy"
   },
   "outputs": [],
   "source": [
    "prob3 = round(4/13,6) #write your answer"
   ]
  },
  {
   "cell_type": "code",
   "execution_count": 35,
   "metadata": {
    "id": "ytYdE-ZYOn16"
   },
   "outputs": [
    {
     "data": {
      "text/plain": [
       "True"
      ]
     },
     "execution_count": 35,
     "metadata": {},
     "output_type": "execute_result"
    }
   ],
   "source": [
    "def grader17(prob3):\n",
    "    return math.isclose(prob3,0.307692)\n",
    "\n",
    "grader17(prob3)"
   ]
  },
  {
   "cell_type": "markdown",
   "metadata": {
    "id": "PvT6nRJTYRPs"
   },
   "source": [
    "![screenshot17](Q17.png)"
   ]
  },
  {
   "cell_type": "markdown",
   "metadata": {
    "id": "Kvl8MMsSO2QF"
   },
   "source": [
    "# Question 18: Given the vector $v=\\{2,−3,z\\}$, find the value of z such that the vector $v$ is orthogonal to the vector $u=\\{1,4,5\\}$. Store the value in variable z. Show screenshot\\\\photograph of your calculation"
   ]
  },
  {
   "cell_type": "code",
   "execution_count": 36,
   "metadata": {
    "id": "CGMzWkq6OwHd"
   },
   "outputs": [],
   "source": [
    "z = 2 #write your answer"
   ]
  },
  {
   "cell_type": "code",
   "execution_count": 37,
   "metadata": {
    "id": "_Yi8vNJTQkuI"
   },
   "outputs": [
    {
     "data": {
      "text/plain": [
       "np.True_"
      ]
     },
     "execution_count": 37,
     "metadata": {},
     "output_type": "execute_result"
    }
   ],
   "source": [
    "def grader_18(z_value):\n",
    "    return np.isclose(z_value, 2)\n",
    "grader_18(z)"
   ]
  },
  {
   "cell_type": "markdown",
   "metadata": {
    "id": "3V68xqhxYSxR"
   },
   "source": [
    "![screenshot18](Q18.png)"
   ]
  },
  {
   "cell_type": "markdown",
   "metadata": {
    "id": "oe9ewMpuRxfz"
   },
   "source": [
    "# Question 19: The probability that it will rain tomorrow is 0.3, and the probability that a person will carry an umbrella is 0.6. If the probability of both events happening (rain and umbrella) is 0.2, what is the probability that it will rain given that the person carries an umbrella? Store your answer in variable prob4. Show screenshot\\\\photograph of your calculation"
   ]
  },
  {
   "cell_type": "code",
   "execution_count": 38,
   "metadata": {
    "id": "vEu77NX7R6jN"
   },
   "outputs": [],
   "source": [
    "prob4 = 0.333#write your answer"
   ]
  },
  {
   "cell_type": "code",
   "execution_count": 39,
   "metadata": {
    "id": "-vgbTldJSCAU"
   },
   "outputs": [
    {
     "data": {
      "text/plain": [
       "True"
      ]
     },
     "execution_count": 39,
     "metadata": {},
     "output_type": "execute_result"
    }
   ],
   "source": [
    "def grader19(prob4):\n",
    "    return math.isclose(prob4, 0.333)\n",
    "\n",
    "grader19(prob4)"
   ]
  },
  {
   "cell_type": "markdown",
   "metadata": {
    "id": "qWfs9WomYcXq"
   },
   "source": [
    "![screenshot19](Q19.png)"
   ]
  },
  {
   "cell_type": "markdown",
   "metadata": {
    "id": "6TKHumrkUJrV"
   },
   "source": [
    "# Question 20 : What are the eigen value of matrix $C$ =  \\begin{bmatrix} 2 & 0 \\\\ 0 & 3 \\end{bmatrix}. Store your answer in variables $e_1$ and $e_2$.\n",
    "# Show screenshot\\\\photograph of your calculation"
   ]
  },
  {
   "cell_type": "code",
   "execution_count": 40,
   "metadata": {
    "id": "i8HMuUKcUMo3"
   },
   "outputs": [],
   "source": [
    "e1 = 2 #write your answer\n",
    "e2 = 3 #write your answer"
   ]
  },
  {
   "cell_type": "code",
   "execution_count": 41,
   "metadata": {
    "id": "-gmWKJ4HUmgj"
   },
   "outputs": [
    {
     "data": {
      "text/plain": [
       "True"
      ]
     },
     "execution_count": 41,
     "metadata": {},
     "output_type": "execute_result"
    }
   ],
   "source": [
    "def grader20(e1, e2):\n",
    "    if (e1 == 2 and e2 == 3) or \\\n",
    "       (e1 == 3 and e2 == 2):\n",
    "        return True\n",
    "    else:\n",
    "        return False\n",
    "grader20(e1, e2)"
   ]
  },
  {
   "cell_type": "markdown",
   "metadata": {
    "id": "jjZQK2FNYfLs"
   },
   "source": [
    "![screenshot20](Q20.png)"
   ]
  }
 ],
 "metadata": {
  "colab": {
   "provenance": []
  },
  "kernelspec": {
   "display_name": "Python 3 (ipykernel)",
   "language": "python",
   "name": "python3"
  },
  "language_info": {
   "codemirror_mode": {
    "name": "ipython",
    "version": 3
   },
   "file_extension": ".py",
   "mimetype": "text/x-python",
   "name": "python",
   "nbconvert_exporter": "python",
   "pygments_lexer": "ipython3",
   "version": "3.13.2"
  }
 },
 "nbformat": 4,
 "nbformat_minor": 4
}
